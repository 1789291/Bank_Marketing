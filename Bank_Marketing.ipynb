{
 "cells": [
  {
   "cell_type": "markdown",
   "metadata": {},
   "source": [
    "# Bank Marketing\n",
    "------------------------------------------------------------------------------------------------------\n",
    "<img src=\"banking.jpg\">\n",
    "\n",
    "##  We want to predict if a client has subscribed to a term deposit? (binary: 'yes','no')\n",
    "\n",
    "------------------------------------------------------------------------------------------------------\n",
    "Attribute Information:\n",
    "\n",
    "Input variables:\n",
    "## bank client data:\n",
    "1 - age (numeric)\n",
    "\n",
    "\n",
    "2 - job : type of job (categorical: 'admin.','blue-collar','entrepreneur','housemaid','management','retired','self-\n",
    "employed','services','student','technician','unemployed','unknown')\n",
    "\n",
    "3 - marital : marital status (categorical: 'divorced','married','single','unknown'; note: 'divorced' means divorced or widowed)\n",
    "\n",
    "4 - education (categorical: 'basic.4y','basic.6y','basic.9y','high.school','illiterate','professional.course','university.degree','unknown')\n",
    "\n",
    "5 - default: has credit in default? (categorical: 'no','yes','unknown')\n",
    "\n",
    "6 - housing: has housing loan? (categorical: 'no','yes','unknown')\n",
    "\n",
    "7 - loan: has personal loan? (categorical: 'no','yes','unknown')\n",
    "## related with the last contact of the current campaign:\n",
    "8 - contact: contact communication type (categorical: 'cellular','telephone') \n",
    "\n",
    "9 - month: last contact month of year (categorical: 'jan', 'feb', 'mar', ..., 'nov', 'dec')\n",
    "\n",
    "10 - day_of_week: last contact day of the week (categorical: 'mon','tue','wed','thu','fri')\n",
    "\n",
    "11 - duration: last contact duration, in seconds (numeric). Important note: this attribute highly affects the output target (e.g., if duration=0 then y='no'). Yet, the duration is not known before a call is performed. Also, after the end of the call y is obviously known. Thus, this input should only be included for benchmark purposes and should be discarded if the intention is to have a realistic predictive model.\n",
    "## other attributes:\n",
    "12 - campaign: number of contacts performed during this campaign and for this client (numeric, includes last contact)\n",
    "\n",
    "13 - pdays: number of days that passed by after the client was last contacted from a previous campaign (numeric; 999 means client was not previously contacted)\n",
    "\n",
    "14 - previous: number of contacts performed before this campaign and for this client (numeric)\n",
    "\n",
    "15 - poutcome: outcome of the previous marketing campaign (categorical: 'failure','nonexistent','success')\n",
    "## social and economic context attributes\n",
    "16 - emp.var.rate: employment variation rate - quarterly indicator (numeric).\n",
    "\n",
    "17 - cons.price.idx: consumer price index - monthly indicator (numeric) \n",
    "\n",
    "18 - cons.conf.idx: consumer confidence index - monthly indicator (numeric) \n",
    "\n",
    "19 - euribor3m: euribor 3 month rate - daily indicator (numeric)\n",
    "\n",
    "20 - nr.employed: number of employees - quarterly indicator (numeric)\n",
    "\n",
    "Output variable (desired target):\n",
    "21 - y - has the client subscribed a term deposit? (binary: 'yes','no')"
   ]
  },
  {
   "cell_type": "code",
   "execution_count": 1,
   "metadata": {
    "code_folding": [
     0
    ]
   },
   "outputs": [],
   "source": [
    "#imports\n",
    "import pandas as pd\n",
    "import numpy as np\n",
    "import matplotlib.pyplot as plt\n",
    "import seaborn as sns\n",
    "from sklearn.preprocessing  import LabelEncoder\n",
    "from sklearn.metrics import mean_squared_error\n",
    "from sklearn.model_selection import cross_val_score, train_test_split\n",
    "from sklearn import metrics\n",
    "\n",
    "# Matplotlib for classic visualisations\n",
    "import matplotlib.pyplot as plt\n",
    "\n",
    "# These are the libraries used for the Decision Tree Visualization\n",
    "from sklearn import tree\n",
    "from sklearn.tree import DecisionTreeClassifier\n",
    "from IPython.display import Image\n",
    "\n",
    "from sklearn.ensemble import RandomForestClassifier\n",
    "from sklearn.linear_model import LogisticRegression\n",
    "from sklearn.neighbors import KNeighborsClassifier\n",
    "\n",
    "import collections\n",
    "\n",
    "import warnings\n",
    "warnings.filterwarnings('ignore')"
   ]
  },
  {
   "cell_type": "code",
   "execution_count": 2,
   "metadata": {
    "code_folding": [
     0
    ]
   },
   "outputs": [],
   "source": [
    "#read csv file to a pandas dataframe\n",
    "df = pd.read_csv('./bank.csv',sep =';')"
   ]
  },
  {
   "cell_type": "markdown",
   "metadata": {},
   "source": [
    "## Data Exploration"
   ]
  },
  {
   "cell_type": "code",
   "execution_count": 3,
   "metadata": {
    "code_folding": [
     0
    ]
   },
   "outputs": [
    {
     "data": {
      "text/html": [
       "<div>\n",
       "<style scoped>\n",
       "    .dataframe tbody tr th:only-of-type {\n",
       "        vertical-align: middle;\n",
       "    }\n",
       "\n",
       "    .dataframe tbody tr th {\n",
       "        vertical-align: top;\n",
       "    }\n",
       "\n",
       "    .dataframe thead th {\n",
       "        text-align: right;\n",
       "    }\n",
       "</style>\n",
       "<table border=\"1\" class=\"dataframe\">\n",
       "  <thead>\n",
       "    <tr style=\"text-align: right;\">\n",
       "      <th></th>\n",
       "      <th>age</th>\n",
       "      <th>job</th>\n",
       "      <th>marital</th>\n",
       "      <th>education</th>\n",
       "      <th>default</th>\n",
       "      <th>balance</th>\n",
       "      <th>housing</th>\n",
       "      <th>loan</th>\n",
       "      <th>contact</th>\n",
       "      <th>day</th>\n",
       "      <th>month</th>\n",
       "      <th>duration</th>\n",
       "      <th>campaign</th>\n",
       "      <th>pdays</th>\n",
       "      <th>previous</th>\n",
       "      <th>poutcome</th>\n",
       "      <th>y</th>\n",
       "    </tr>\n",
       "  </thead>\n",
       "  <tbody>\n",
       "    <tr>\n",
       "      <th>0</th>\n",
       "      <td>30</td>\n",
       "      <td>unemployed</td>\n",
       "      <td>married</td>\n",
       "      <td>primary</td>\n",
       "      <td>no</td>\n",
       "      <td>1787</td>\n",
       "      <td>no</td>\n",
       "      <td>no</td>\n",
       "      <td>cellular</td>\n",
       "      <td>19</td>\n",
       "      <td>oct</td>\n",
       "      <td>79</td>\n",
       "      <td>1</td>\n",
       "      <td>-1</td>\n",
       "      <td>0</td>\n",
       "      <td>unknown</td>\n",
       "      <td>no</td>\n",
       "    </tr>\n",
       "    <tr>\n",
       "      <th>1</th>\n",
       "      <td>33</td>\n",
       "      <td>services</td>\n",
       "      <td>married</td>\n",
       "      <td>secondary</td>\n",
       "      <td>no</td>\n",
       "      <td>4789</td>\n",
       "      <td>yes</td>\n",
       "      <td>yes</td>\n",
       "      <td>cellular</td>\n",
       "      <td>11</td>\n",
       "      <td>may</td>\n",
       "      <td>220</td>\n",
       "      <td>1</td>\n",
       "      <td>339</td>\n",
       "      <td>4</td>\n",
       "      <td>failure</td>\n",
       "      <td>no</td>\n",
       "    </tr>\n",
       "    <tr>\n",
       "      <th>2</th>\n",
       "      <td>35</td>\n",
       "      <td>management</td>\n",
       "      <td>single</td>\n",
       "      <td>tertiary</td>\n",
       "      <td>no</td>\n",
       "      <td>1350</td>\n",
       "      <td>yes</td>\n",
       "      <td>no</td>\n",
       "      <td>cellular</td>\n",
       "      <td>16</td>\n",
       "      <td>apr</td>\n",
       "      <td>185</td>\n",
       "      <td>1</td>\n",
       "      <td>330</td>\n",
       "      <td>1</td>\n",
       "      <td>failure</td>\n",
       "      <td>no</td>\n",
       "    </tr>\n",
       "    <tr>\n",
       "      <th>3</th>\n",
       "      <td>30</td>\n",
       "      <td>management</td>\n",
       "      <td>married</td>\n",
       "      <td>tertiary</td>\n",
       "      <td>no</td>\n",
       "      <td>1476</td>\n",
       "      <td>yes</td>\n",
       "      <td>yes</td>\n",
       "      <td>unknown</td>\n",
       "      <td>3</td>\n",
       "      <td>jun</td>\n",
       "      <td>199</td>\n",
       "      <td>4</td>\n",
       "      <td>-1</td>\n",
       "      <td>0</td>\n",
       "      <td>unknown</td>\n",
       "      <td>no</td>\n",
       "    </tr>\n",
       "    <tr>\n",
       "      <th>4</th>\n",
       "      <td>59</td>\n",
       "      <td>blue-collar</td>\n",
       "      <td>married</td>\n",
       "      <td>secondary</td>\n",
       "      <td>no</td>\n",
       "      <td>0</td>\n",
       "      <td>yes</td>\n",
       "      <td>no</td>\n",
       "      <td>unknown</td>\n",
       "      <td>5</td>\n",
       "      <td>may</td>\n",
       "      <td>226</td>\n",
       "      <td>1</td>\n",
       "      <td>-1</td>\n",
       "      <td>0</td>\n",
       "      <td>unknown</td>\n",
       "      <td>no</td>\n",
       "    </tr>\n",
       "  </tbody>\n",
       "</table>\n",
       "</div>"
      ],
      "text/plain": [
       "   age          job  marital  education default  balance housing loan  \\\n",
       "0   30   unemployed  married    primary      no     1787      no   no   \n",
       "1   33     services  married  secondary      no     4789     yes  yes   \n",
       "2   35   management   single   tertiary      no     1350     yes   no   \n",
       "3   30   management  married   tertiary      no     1476     yes  yes   \n",
       "4   59  blue-collar  married  secondary      no        0     yes   no   \n",
       "\n",
       "    contact  day month  duration  campaign  pdays  previous poutcome   y  \n",
       "0  cellular   19   oct        79         1     -1         0  unknown  no  \n",
       "1  cellular   11   may       220         1    339         4  failure  no  \n",
       "2  cellular   16   apr       185         1    330         1  failure  no  \n",
       "3   unknown    3   jun       199         4     -1         0  unknown  no  \n",
       "4   unknown    5   may       226         1     -1         0  unknown  no  "
      ]
     },
     "execution_count": 3,
     "metadata": {},
     "output_type": "execute_result"
    }
   ],
   "source": [
    "#show how data looks like\n",
    "df.head()"
   ]
  },
  {
   "cell_type": "code",
   "execution_count": 4,
   "metadata": {
    "code_folding": [
     0
    ]
   },
   "outputs": [
    {
     "name": "stdout",
     "output_type": "stream",
     "text": [
      "<class 'pandas.core.frame.DataFrame'>\n",
      "RangeIndex: 4521 entries, 0 to 4520\n",
      "Data columns (total 17 columns):\n",
      "age          4521 non-null int64\n",
      "job          4521 non-null object\n",
      "marital      4521 non-null object\n",
      "education    4521 non-null object\n",
      "default      4521 non-null object\n",
      "balance      4521 non-null int64\n",
      "housing      4521 non-null object\n",
      "loan         4521 non-null object\n",
      "contact      4521 non-null object\n",
      "day          4521 non-null int64\n",
      "month        4521 non-null object\n",
      "duration     4521 non-null int64\n",
      "campaign     4521 non-null int64\n",
      "pdays        4521 non-null int64\n",
      "previous     4521 non-null int64\n",
      "poutcome     4521 non-null object\n",
      "y            4521 non-null object\n",
      "dtypes: int64(7), object(10)\n",
      "memory usage: 600.5+ KB\n"
     ]
    }
   ],
   "source": [
    "#show information about dataframe\n",
    "df.info()"
   ]
  },
  {
   "cell_type": "markdown",
   "metadata": {},
   "source": [
    "List of all columns with respective data types\n",
    "- there are columns which have type object that will have to be converted "
   ]
  },
  {
   "cell_type": "code",
   "execution_count": 5,
   "metadata": {
    "code_folding": [
     0
    ]
   },
   "outputs": [
    {
     "data": {
      "text/plain": [
       "age          0\n",
       "job          0\n",
       "marital      0\n",
       "education    0\n",
       "default      0\n",
       "balance      0\n",
       "housing      0\n",
       "loan         0\n",
       "contact      0\n",
       "day          0\n",
       "month        0\n",
       "duration     0\n",
       "campaign     0\n",
       "pdays        0\n",
       "previous     0\n",
       "poutcome     0\n",
       "y            0\n",
       "dtype: int64"
      ]
     },
     "execution_count": 5,
     "metadata": {},
     "output_type": "execute_result"
    }
   ],
   "source": [
    "#check if there are any null values \n",
    "df.isnull().sum()"
   ]
  },
  {
   "cell_type": "markdown",
   "metadata": {},
   "source": [
    "There are no null values in data"
   ]
  },
  {
   "cell_type": "code",
   "execution_count": 6,
   "metadata": {
    "code_folding": [
     0
    ]
   },
   "outputs": [
    {
     "name": "stdout",
     "output_type": "stream",
     "text": [
      "management       969\n",
      "blue-collar      946\n",
      "technician       768\n",
      "admin.           478\n",
      "services         417\n",
      "retired          230\n",
      "self-employed    183\n",
      "entrepreneur     168\n",
      "unemployed       128\n",
      "housemaid        112\n",
      "student           84\n",
      "unknown           38\n",
      "Name: job, dtype: int64\n",
      "married     2797\n",
      "single      1196\n",
      "divorced     528\n",
      "Name: marital, dtype: int64\n",
      "secondary    2306\n",
      "tertiary     1350\n",
      "primary       678\n",
      "unknown       187\n",
      "Name: education, dtype: int64\n",
      "no     4445\n",
      "yes      76\n",
      "Name: default, dtype: int64\n",
      "yes    2559\n",
      "no     1962\n",
      "Name: housing, dtype: int64\n",
      "no     3830\n",
      "yes     691\n",
      "Name: loan, dtype: int64\n",
      "cellular     2896\n",
      "unknown      1324\n",
      "telephone     301\n",
      "Name: contact, dtype: int64\n",
      "20    257\n",
      "18    226\n",
      "19    201\n",
      "21    198\n",
      "14    195\n",
      "17    191\n",
      "7     190\n",
      "6     187\n",
      "28    181\n",
      "5     181\n",
      "8     180\n",
      "29    175\n",
      "15    174\n",
      "30    168\n",
      "13    166\n",
      "16    164\n",
      "9     163\n",
      "11    152\n",
      "12    151\n",
      "4     139\n",
      "2     114\n",
      "27    113\n",
      "26    110\n",
      "3     105\n",
      "23    102\n",
      "22     86\n",
      "25     80\n",
      "31     59\n",
      "10     50\n",
      "24     36\n",
      "1      27\n",
      "Name: day, dtype: int64\n",
      "may    1398\n",
      "jul     706\n",
      "aug     633\n",
      "jun     531\n",
      "nov     389\n",
      "apr     293\n",
      "feb     222\n",
      "jan     148\n",
      "oct      80\n",
      "sep      52\n",
      "mar      49\n",
      "dec      20\n",
      "Name: month, dtype: int64\n",
      "1     1734\n",
      "2     1264\n",
      "3      558\n",
      "4      325\n",
      "5      167\n",
      "6      155\n",
      "7       75\n",
      "8       56\n",
      "9       30\n",
      "10      27\n",
      "11      22\n",
      "12      21\n",
      "13      17\n",
      "14      10\n",
      "15       9\n",
      "16       8\n",
      "17       7\n",
      "18       7\n",
      "25       4\n",
      "28       3\n",
      "24       3\n",
      "20       3\n",
      "19       3\n",
      "21       2\n",
      "23       2\n",
      "22       2\n",
      "32       2\n",
      "29       1\n",
      "44       1\n",
      "30       1\n",
      "50       1\n",
      "31       1\n",
      "Name: campaign, dtype: int64\n",
      "0     3705\n",
      "1      286\n",
      "2      193\n",
      "3      113\n",
      "4       78\n",
      "5       47\n",
      "6       25\n",
      "7       22\n",
      "8       18\n",
      "9       10\n",
      "12       5\n",
      "10       4\n",
      "11       3\n",
      "14       2\n",
      "20       1\n",
      "24       1\n",
      "23       1\n",
      "13       1\n",
      "17       1\n",
      "19       1\n",
      "18       1\n",
      "22       1\n",
      "15       1\n",
      "25       1\n",
      "Name: previous, dtype: int64\n",
      "unknown    3705\n",
      "failure     490\n",
      "other       197\n",
      "success     129\n",
      "Name: poutcome, dtype: int64\n",
      "no     4000\n",
      "yes     521\n",
      "Name: y, dtype: int64\n"
     ]
    }
   ],
   "source": [
    "#Drop continues data\n",
    "columns = df.columns.drop(['age','balance','duration','pdays'])\n",
    "#print value count for all discrete data\n",
    "for column in columns:\n",
    "    print(df[column].value_counts())"
   ]
  },
  {
   "cell_type": "markdown",
   "metadata": {},
   "source": [
    "show a brief description of how the data looks like"
   ]
  },
  {
   "cell_type": "code",
   "execution_count": 7,
   "metadata": {
    "code_folding": [
     0
    ]
   },
   "outputs": [
    {
     "data": {
      "text/html": [
       "<div>\n",
       "<style scoped>\n",
       "    .dataframe tbody tr th:only-of-type {\n",
       "        vertical-align: middle;\n",
       "    }\n",
       "\n",
       "    .dataframe tbody tr th {\n",
       "        vertical-align: top;\n",
       "    }\n",
       "\n",
       "    .dataframe thead th {\n",
       "        text-align: right;\n",
       "    }\n",
       "</style>\n",
       "<table border=\"1\" class=\"dataframe\">\n",
       "  <thead>\n",
       "    <tr style=\"text-align: right;\">\n",
       "      <th></th>\n",
       "      <th>count</th>\n",
       "      <th>mean</th>\n",
       "      <th>std</th>\n",
       "      <th>min</th>\n",
       "      <th>25%</th>\n",
       "      <th>50%</th>\n",
       "      <th>75%</th>\n",
       "      <th>max</th>\n",
       "    </tr>\n",
       "  </thead>\n",
       "  <tbody>\n",
       "    <tr>\n",
       "      <th>age</th>\n",
       "      <td>4521.0</td>\n",
       "      <td>41.170095</td>\n",
       "      <td>10.576211</td>\n",
       "      <td>19.0</td>\n",
       "      <td>33.0</td>\n",
       "      <td>39.0</td>\n",
       "      <td>49.0</td>\n",
       "      <td>87.0</td>\n",
       "    </tr>\n",
       "    <tr>\n",
       "      <th>balance</th>\n",
       "      <td>4521.0</td>\n",
       "      <td>1422.657819</td>\n",
       "      <td>3009.638142</td>\n",
       "      <td>-3313.0</td>\n",
       "      <td>69.0</td>\n",
       "      <td>444.0</td>\n",
       "      <td>1480.0</td>\n",
       "      <td>71188.0</td>\n",
       "    </tr>\n",
       "    <tr>\n",
       "      <th>day</th>\n",
       "      <td>4521.0</td>\n",
       "      <td>15.915284</td>\n",
       "      <td>8.247667</td>\n",
       "      <td>1.0</td>\n",
       "      <td>9.0</td>\n",
       "      <td>16.0</td>\n",
       "      <td>21.0</td>\n",
       "      <td>31.0</td>\n",
       "    </tr>\n",
       "    <tr>\n",
       "      <th>duration</th>\n",
       "      <td>4521.0</td>\n",
       "      <td>263.961292</td>\n",
       "      <td>259.856633</td>\n",
       "      <td>4.0</td>\n",
       "      <td>104.0</td>\n",
       "      <td>185.0</td>\n",
       "      <td>329.0</td>\n",
       "      <td>3025.0</td>\n",
       "    </tr>\n",
       "    <tr>\n",
       "      <th>campaign</th>\n",
       "      <td>4521.0</td>\n",
       "      <td>2.793630</td>\n",
       "      <td>3.109807</td>\n",
       "      <td>1.0</td>\n",
       "      <td>1.0</td>\n",
       "      <td>2.0</td>\n",
       "      <td>3.0</td>\n",
       "      <td>50.0</td>\n",
       "    </tr>\n",
       "    <tr>\n",
       "      <th>pdays</th>\n",
       "      <td>4521.0</td>\n",
       "      <td>39.766645</td>\n",
       "      <td>100.121124</td>\n",
       "      <td>-1.0</td>\n",
       "      <td>-1.0</td>\n",
       "      <td>-1.0</td>\n",
       "      <td>-1.0</td>\n",
       "      <td>871.0</td>\n",
       "    </tr>\n",
       "    <tr>\n",
       "      <th>previous</th>\n",
       "      <td>4521.0</td>\n",
       "      <td>0.542579</td>\n",
       "      <td>1.693562</td>\n",
       "      <td>0.0</td>\n",
       "      <td>0.0</td>\n",
       "      <td>0.0</td>\n",
       "      <td>0.0</td>\n",
       "      <td>25.0</td>\n",
       "    </tr>\n",
       "  </tbody>\n",
       "</table>\n",
       "</div>"
      ],
      "text/plain": [
       "           count         mean          std     min    25%    50%     75%  \\\n",
       "age       4521.0    41.170095    10.576211    19.0   33.0   39.0    49.0   \n",
       "balance   4521.0  1422.657819  3009.638142 -3313.0   69.0  444.0  1480.0   \n",
       "day       4521.0    15.915284     8.247667     1.0    9.0   16.0    21.0   \n",
       "duration  4521.0   263.961292   259.856633     4.0  104.0  185.0   329.0   \n",
       "campaign  4521.0     2.793630     3.109807     1.0    1.0    2.0     3.0   \n",
       "pdays     4521.0    39.766645   100.121124    -1.0   -1.0   -1.0    -1.0   \n",
       "previous  4521.0     0.542579     1.693562     0.0    0.0    0.0     0.0   \n",
       "\n",
       "              max  \n",
       "age          87.0  \n",
       "balance   71188.0  \n",
       "day          31.0  \n",
       "duration   3025.0  \n",
       "campaign     50.0  \n",
       "pdays       871.0  \n",
       "previous     25.0  "
      ]
     },
     "execution_count": 7,
     "metadata": {},
     "output_type": "execute_result"
    }
   ],
   "source": [
    "# data sdescribtion\n",
    "df.describe().T"
   ]
  },
  {
   "cell_type": "markdown",
   "metadata": {},
   "source": [
    "Perform value count for all columns"
   ]
  },
  {
   "cell_type": "markdown",
   "metadata": {},
   "source": [
    "### Value Count Plot\n",
    "        - number of values for a given a column"
   ]
  },
  {
   "cell_type": "code",
   "execution_count": 8,
   "metadata": {
    "code_folding": [
     0,
     5
    ]
   },
   "outputs": [
    {
     "data": {
      "image/png": "[encoded data removed]",
      "text/plain": [
       "<Figure size 1080x3600 with 13 Axes>"
      ]
     },
     "metadata": {},
     "output_type": "display_data"
    }
   ],
   "source": [
    "#show plots of number of values given a column \n",
    "i = 0\n",
    "fig, ax = plt.subplots(13,1)\n",
    "fig.set_figheight(50)\n",
    "fig.set_figwidth(15)\n",
    "for column in columns:\n",
    "    sns.countplot(df[column], ax=ax[i])\n",
    "    i = i + 1\n",
    "fig.show()"
   ]
  },
  {
   "cell_type": "markdown",
   "metadata": {},
   "source": [
    "### Histogram\n",
    "        - visualize distributions for each chategory "
   ]
  },
  {
   "cell_type": "code",
   "execution_count": 9,
   "metadata": {
    "scrolled": true
   },
   "outputs": [
    {
     "data": {
      "image/png": "[encoded data removed]",
      "text/plain": [
       "<Figure size 720x720 with 9 Axes>"
      ]
     },
     "metadata": {},
     "output_type": "display_data"
    }
   ],
   "source": [
    "df.hist(figsize=(10,10));"
   ]
  },
  {
   "cell_type": "markdown",
   "metadata": {},
   "source": [
    "   Comparing distributions of all columns with respect to those to clients who subscribed to a term deposit or not"
   ]
  },
  {
   "cell_type": "code",
   "execution_count": 10,
   "metadata": {
    "code_folding": [
     0,
     1
    ]
   },
   "outputs": [
    {
     "name": "stdout",
     "output_type": "stream",
     "text": [
      "age\n"
     ]
    },
    {
     "data": {
      "image/png": "[encoded data removed]",
      "text/plain": [
       "<Figure size 432x288 with 2 Axes>"
      ]
     },
     "metadata": {},
     "output_type": "display_data"
    },
    {
     "name": "stdout",
     "output_type": "stream",
     "text": [
      "balance\n"
     ]
    },
    {
     "data": {
      "image/png": "[encoded data removed]",
      "text/plain": [
       "<Figure size 432x288 with 2 Axes>"
      ]
     },
     "metadata": {},
     "output_type": "display_data"
    },
    {
     "name": "stdout",
     "output_type": "stream",
     "text": [
      "day\n"
     ]
    },
    {
     "data": {
      "image/png": "[encoded data removed]",
      "text/plain": [
       "<Figure size 432x288 with 2 Axes>"
      ]
     },
     "metadata": {},
     "output_type": "display_data"
    },
    {
     "name": "stdout",
     "output_type": "stream",
     "text": [
      "duration\n"
     ]
    },
    {
     "data": {
      "image/png": "[encoded data removed]",
      "text/plain": [
       "<Figure size 432x288 with 2 Axes>"
      ]
     },
     "metadata": {},
     "output_type": "display_data"
    },
    {
     "name": "stdout",
     "output_type": "stream",
     "text": [
      "campaign\n"
     ]
    },
    {
     "data": {
      "image/png": "[encoded data removed]",
      "text/plain": [
       "<Figure size 432x288 with 2 Axes>"
      ]
     },
     "metadata": {},
     "output_type": "display_data"
    },
    {
     "name": "stdout",
     "output_type": "stream",
     "text": [
      "pdays\n"
     ]
    },
    {
     "data": {
      "image/png": "[encoded data removed]",
      "text/plain": [
       "<Figure size 432x288 with 2 Axes>"
      ]
     },
     "metadata": {},
     "output_type": "display_data"
    },
    {
     "name": "stdout",
     "output_type": "stream",
     "text": [
      "previous\n"
     ]
    },
    {
     "data": {
      "image/png": "[encoded data removed]",
      "text/plain": [
       "<Figure size 432x288 with 2 Axes>"
      ]
     },
     "metadata": {},
     "output_type": "display_data"
    }
   ],
   "source": [
    "#show distributions per column with y = 'yes' or 'no'\n",
    "for column in df.select_dtypes(exclude=['object']).columns:\n",
    "     if column != 'y':\n",
    "        print(column)\n",
    "        hist = df[[column, 'y']].hist(by='y', bins=30)\n",
    "        plt.show()"
   ]
  },
  {
   "cell_type": "code",
   "execution_count": 11,
   "metadata": {
    "code_folding": [
     0
    ]
   },
   "outputs": [],
   "source": [
    "#Label encode loan, housing, defaul, y, columns from 'yes' or 'no' to '1' or '0'\n",
    "enc = LabelEncoder()\n",
    "df.housing = enc.fit_transform(df.housing)\n",
    "df.y = enc.fit_transform(df.y)\n",
    "\n",
    "df.loan = enc.fit_transform(df.loan)\n",
    "df.default = enc.fit_transform(df.default)"
   ]
  },
  {
   "cell_type": "markdown",
   "metadata": {},
   "source": [
    "### Correlation Matrix\n",
    "         show how values correlate to each other "
   ]
  },
  {
   "cell_type": "code",
   "execution_count": 12,
   "metadata": {
    "code_folding": [
     0
    ],
    "scrolled": true
   },
   "outputs": [
    {
     "data": {
      "text/plain": [
       "<matplotlib.axes._subplots.AxesSubplot at 0x2ae53c219e8>"
      ]
     },
     "execution_count": 12,
     "metadata": {},
     "output_type": "execute_result"
    },
    {
     "data": {
      "image/png": "[encoded data removed]",
      "text/plain": [
       "<Figure size 792x648 with 2 Axes>"
      ]
     },
     "metadata": {},
     "output_type": "display_data"
    }
   ],
   "source": [
    "# Compute the correlation matrix\n",
    "corr = df.corr()\n",
    "\n",
    "# Generate a mask for the upper triangle\n",
    "mask = np.zeros_like(corr, dtype=np.bool) # Return an array of zeros with the same shape and type as a given array\n",
    "mask[np.triu_indices_from(mask)] = True # Return the indices for the upper-triangle of arr\n",
    "\n",
    "# Set up the matplotlib figure\n",
    "f, ax = plt.subplots(figsize=(11, 9))\n",
    "\n",
    "# Generate a custom diverging colormap\n",
    "cmap = sns.diverging_palette(220, 10, as_cmap=True)\n",
    "\n",
    "# Draw the heatmap with the mask and correct aspect ratio\n",
    "sns.heatmap(corr, mask=mask, cmap=cmap, vmax=.3, center=0,\n",
    "            square=True, linewidths=.5, cbar_kws={\"shrink\": .5})"
   ]
  },
  {
   "cell_type": "code",
   "execution_count": 13,
   "metadata": {
    "code_folding": [
     0
    ]
   },
   "outputs": [],
   "source": [
    "# get dummy variables on for 'job','merital','education','contact','month','poutcome'\n",
    "df2 = pd.get_dummies(df,prefix=['job','merital','education','contact','month','poutcome'], drop_first=True)"
   ]
  },
  {
   "cell_type": "code",
   "execution_count": 14,
   "metadata": {
    "code_folding": [
     0
    ]
   },
   "outputs": [],
   "source": [
    "#Split data into train and test\n",
    "X = df2.iloc[:, :-1]\n",
    "y = df2.iloc[:, -1:]\n",
    "X_train, X_test, Y_train, Y_test = train_test_split(X, y, test_size=0.33, random_state=2)"
   ]
  },
  {
   "cell_type": "markdown",
   "metadata": {},
   "source": [
    "## Decision Tree"
   ]
  },
  {
   "cell_type": "code",
   "execution_count": 15,
   "metadata": {
    "code_folding": [
     0
    ]
   },
   "outputs": [],
   "source": [
    "# Create decision tree instance\n",
    "decision_tree = DecisionTreeClassifier(max_depth=2)\n",
    "# Fit the Random Forest Model over the training datatset\n",
    "decision_tree.fit(X_train, Y_train)\n",
    "Y_pred = decision_tree.predict(X_test)"
   ]
  },
  {
   "cell_type": "code",
   "execution_count": 16,
   "metadata": {
    "code_folding": [
     0
    ],
    "scrolled": true
   },
   "outputs": [
    {
     "name": "stdout",
     "output_type": "stream",
     "text": [
      "Accuracy Score =   1.0\n",
      "[[ 268    0]\n",
      " [   0 1224]]\n",
      "             precision    recall  f1-score   support\n",
      "\n",
      "          0       1.00      1.00      1.00       268\n",
      "          1       1.00      1.00      1.00      1224\n",
      "\n",
      "avg / total       1.00      1.00      1.00      1492\n",
      "\n"
     ]
    }
   ],
   "source": [
    "# Print metrics \n",
    "print(\"Accuracy Score =  \", metrics.accuracy_score(Y_test, Y_pred))\n",
    "print(metrics.confusion_matrix(Y_test, Y_pred))\n",
    "print(metrics.classification_report(Y_test, Y_pred))"
   ]
  },
  {
   "cell_type": "code",
   "execution_count": 17,
   "metadata": {
    "code_folding": [
     0
    ]
   },
   "outputs": [
    {
     "data": {
      "text/plain": [
       "1.0"
      ]
     },
     "execution_count": 17,
     "metadata": {},
     "output_type": "execute_result"
    }
   ],
   "source": [
    "#cross validation score\n",
    "cross = cross_val_score(decision_tree,X_train,Y_train,cv=5,scoring='accuracy')\n",
    "cross.mean()"
   ]
  },
  {
   "cell_type": "code",
   "execution_count": 18,
   "metadata": {
    "code_folding": [
     0
    ]
   },
   "outputs": [
    {
     "name": "stdout",
     "output_type": "stream",
     "text": [
      "mean square error =  0.0\n"
     ]
    }
   ],
   "source": [
    "#print mean square error\n",
    "print('mean square error = ',mean_squared_error(Y_test, Y_pred))"
   ]
  },
  {
   "cell_type": "markdown",
   "metadata": {},
   "source": [
    "## Random Forest"
   ]
  },
  {
   "cell_type": "code",
   "execution_count": 19,
   "metadata": {
    "code_folding": [
     0
    ]
   },
   "outputs": [],
   "source": [
    "# Create random forest instance,train and predict\n",
    "rf = RandomForestClassifier()\n",
    "rf.fit(X_train, Y_train)\n",
    "Y_pred = rf.predict(X_test)"
   ]
  },
  {
   "cell_type": "code",
   "execution_count": 20,
   "metadata": {
    "code_folding": [
     0
    ]
   },
   "outputs": [
    {
     "name": "stdout",
     "output_type": "stream",
     "text": [
      "Accuracy Score =   1.0\n",
      "[[ 268    0]\n",
      " [   0 1224]]\n",
      "             precision    recall  f1-score   support\n",
      "\n",
      "          0       1.00      1.00      1.00       268\n",
      "          1       1.00      1.00      1.00      1224\n",
      "\n",
      "avg / total       1.00      1.00      1.00      1492\n",
      "\n"
     ]
    }
   ],
   "source": [
    "# print metrics\n",
    "print(\"Accuracy Score =  \", metrics.accuracy_score(Y_test, Y_pred))\n",
    "print(metrics.confusion_matrix(Y_test, Y_pred))\n",
    "print(metrics.classification_report(Y_test, Y_pred))"
   ]
  },
  {
   "cell_type": "code",
   "execution_count": 21,
   "metadata": {
    "code_folding": [
     0
    ]
   },
   "outputs": [
    {
     "name": "stdout",
     "output_type": "stream",
     "text": [
      "mean square error =  0.0\n"
     ]
    }
   ],
   "source": [
    "# print mean square error\n",
    "print('mean square error = ', mean_squared_error(Y_test, Y_pred))"
   ]
  },
  {
   "cell_type": "markdown",
   "metadata": {},
   "source": [
    "## Logistic Regression"
   ]
  },
  {
   "cell_type": "code",
   "execution_count": 22,
   "metadata": {
    "code_folding": [
     0
    ]
   },
   "outputs": [],
   "source": [
    "# Create logistic regression tree instance\n",
    "logisticRegr = LogisticRegression()\n",
    "logisticRegr.fit(X_train, Y_train)\n",
    "Y_pred = logisticRegr.predict(X_test)"
   ]
  },
  {
   "cell_type": "code",
   "execution_count": 23,
   "metadata": {
    "code_folding": [
     0
    ]
   },
   "outputs": [
    {
     "name": "stdout",
     "output_type": "stream",
     "text": [
      "Cross Validation Score =  0.99900826446281\n"
     ]
    }
   ],
   "source": [
    "# Print cross validation score \n",
    "cross = cross_val_score(logisticRegr, X_train, Y_train, cv=5, scoring='accuracy')\n",
    "print('Cross Validation Score = ', cross.mean())"
   ]
  },
  {
   "cell_type": "code",
   "execution_count": 24,
   "metadata": {
    "code_folding": [
     0
    ]
   },
   "outputs": [
    {
     "name": "stdout",
     "output_type": "stream",
     "text": [
      "Accuracy Score =   0.9986595174262735\n",
      "[[ 266    2]\n",
      " [   0 1224]]\n",
      "             precision    recall  f1-score   support\n",
      "\n",
      "          0       1.00      0.99      1.00       268\n",
      "          1       1.00      1.00      1.00      1224\n",
      "\n",
      "avg / total       1.00      1.00      1.00      1492\n",
      "\n"
     ]
    }
   ],
   "source": [
    "# Print metrics \n",
    "print(\"Accuracy Score =  \", metrics.accuracy_score(Y_test, Y_pred))\n",
    "print(metrics.confusion_matrix(Y_test, Y_pred))\n",
    "print(metrics.classification_report(Y_test, Y_pred))"
   ]
  },
  {
   "cell_type": "code",
   "execution_count": 25,
   "metadata": {
    "code_folding": [
     0
    ]
   },
   "outputs": [
    {
     "name": "stdout",
     "output_type": "stream",
     "text": [
      "mean square error =  0.0013404825737265416\n"
     ]
    }
   ],
   "source": [
    "# Print mean square error\n",
    "print('mean square error = ',mean_squared_error(Y_test, Y_pred))"
   ]
  },
  {
   "cell_type": "markdown",
   "metadata": {},
   "source": [
    "## K Nearest Neighbors"
   ]
  },
  {
   "cell_type": "code",
   "execution_count": 26,
   "metadata": {
    "code_folding": [
     0
    ]
   },
   "outputs": [],
   "source": [
    "# Create k Nearest Neighbors instance,train and predict\n",
    "neighbor = KNeighborsClassifier(n_neighbors=3)\n",
    "neighbor.fit(X_train, Y_train)\n",
    "Y_pred = neighbor.predict(X_test)"
   ]
  },
  {
   "cell_type": "code",
   "execution_count": 27,
   "metadata": {
    "code_folding": [
     0
    ]
   },
   "outputs": [
    {
     "name": "stdout",
     "output_type": "stream",
     "text": [
      "Cross Validation Score =  0.9564225028164042\n"
     ]
    }
   ],
   "source": [
    "# Print cross validation score\n",
    "cross = cross_val_score(neighbor,X_train,Y_train,cv=5,scoring='accuracy')\n",
    "print('Cross Validation Score = ',cross.mean())"
   ]
  },
  {
   "cell_type": "code",
   "execution_count": 28,
   "metadata": {
    "code_folding": [
     0
    ]
   },
   "outputs": [
    {
     "name": "stdout",
     "output_type": "stream",
     "text": [
      "Acurracy Score =   0.9584450402144772\n",
      "[[ 210   58]\n",
      " [   4 1220]]\n",
      "             precision    recall  f1-score   support\n",
      "\n",
      "          0       0.98      0.78      0.87       268\n",
      "          1       0.95      1.00      0.98      1224\n",
      "\n",
      "avg / total       0.96      0.96      0.96      1492\n",
      "\n"
     ]
    }
   ],
   "source": [
    "# Print metrics \n",
    "print(\"Acurracy Score =  \", metrics.accuracy_score(Y_test, Y_pred))\n",
    "print(metrics.confusion_matrix(Y_test, Y_pred))\n",
    "print(metrics.classification_report(Y_test, Y_pred))"
   ]
  },
  {
   "cell_type": "code",
   "execution_count": 29,
   "metadata": {
    "code_folding": [
     0
    ]
   },
   "outputs": [
    {
     "name": "stdout",
     "output_type": "stream",
     "text": [
      "mean square error =  0.04155495978552279\n"
     ]
    }
   ],
   "source": [
    "#print mean square error\n",
    "print('mean square error = ', mean_squared_error(Y_test, Y_pred))"
   ]
  },
  {
   "cell_type": "markdown",
   "metadata": {},
   "source": [
    "## Grid Search"
   ]
  },
  {
   "cell_type": "code",
   "execution_count": 44,
   "metadata": {
    "code_folding": [
     0
    ]
   },
   "outputs": [
    {
     "name": "stdout",
     "output_type": "stream",
     "text": [
      "RandomizedSearchCV took 3.25 seconds for 20 candidates parameter settings.\n",
      "Model with rank: 1\n",
      "Mean validation score: 1.000 (std: 0.000)\n",
      "Parameters: {'bootstrap': False, 'criterion': 'entropy', 'max_depth': None, 'max_features': 8, 'min_samples_leaf': 0.011959487811636648, 'min_samples_split': 9}\n",
      "\n",
      "Model with rank: 1\n",
      "Mean validation score: 1.000 (std: 0.000)\n",
      "Parameters: {'bootstrap': True, 'criterion': 'entropy', 'max_depth': 3, 'max_features': 9, 'min_samples_leaf': 0.018266711890502132, 'min_samples_split': 3}\n",
      "\n",
      "Model with rank: 1\n",
      "Mean validation score: 1.000 (std: 0.000)\n",
      "Parameters: {'bootstrap': True, 'criterion': 'gini', 'max_depth': None, 'max_features': 9, 'min_samples_leaf': 0.037413687416605605, 'min_samples_split': 2}\n",
      "\n",
      "Model with rank: 1\n",
      "Mean validation score: 1.000 (std: 0.000)\n",
      "Parameters: {'bootstrap': False, 'criterion': 'gini', 'max_depth': 3, 'max_features': 8, 'min_samples_leaf': 0.027936844052334233, 'min_samples_split': 2}\n",
      "\n",
      "Model with rank: 1\n",
      "Mean validation score: 1.000 (std: 0.000)\n",
      "Parameters: {'bootstrap': False, 'criterion': 'entropy', 'max_depth': 3, 'max_features': 7, 'min_samples_leaf': 0.09827346281891422, 'min_samples_split': 4}\n",
      "\n",
      "Model with rank: 1\n",
      "Mean validation score: 1.000 (std: 0.000)\n",
      "Parameters: {'bootstrap': True, 'criterion': 'entropy', 'max_depth': 3, 'max_features': 8, 'min_samples_leaf': 0.04272563121815254, 'min_samples_split': 8}\n",
      "\n",
      "GridSearchCV took 31.47 seconds for 216 candidate parameter settings.\n",
      "Model with rank: 1\n",
      "Mean validation score: 1.000 (std: 0.000)\n",
      "Parameters: {'bootstrap': True, 'criterion': 'gini', 'max_depth': 3, 'max_features': 10, 'min_samples_leaf': 1, 'min_samples_split': 2}\n",
      "\n",
      "Model with rank: 1\n",
      "Mean validation score: 1.000 (std: 0.000)\n",
      "Parameters: {'bootstrap': True, 'criterion': 'gini', 'max_depth': 3, 'max_features': 10, 'min_samples_leaf': 1, 'min_samples_split': 3}\n",
      "\n",
      "Model with rank: 1\n",
      "Mean validation score: 1.000 (std: 0.000)\n",
      "Parameters: {'bootstrap': True, 'criterion': 'gini', 'max_depth': 3, 'max_features': 10, 'min_samples_leaf': 1, 'min_samples_split': 10}\n",
      "\n",
      "Model with rank: 1\n",
      "Mean validation score: 1.000 (std: 0.000)\n",
      "Parameters: {'bootstrap': True, 'criterion': 'gini', 'max_depth': 3, 'max_features': 10, 'min_samples_leaf': 3, 'min_samples_split': 2}\n",
      "\n",
      "Model with rank: 1\n",
      "Mean validation score: 1.000 (std: 0.000)\n",
      "Parameters: {'bootstrap': True, 'criterion': 'gini', 'max_depth': 3, 'max_features': 10, 'min_samples_leaf': 3, 'min_samples_split': 3}\n",
      "\n",
      "Model with rank: 1\n",
      "Mean validation score: 1.000 (std: 0.000)\n",
      "Parameters: {'bootstrap': True, 'criterion': 'gini', 'max_depth': 3, 'max_features': 10, 'min_samples_leaf': 3, 'min_samples_split': 10}\n",
      "\n",
      "Model with rank: 1\n",
      "Mean validation score: 1.000 (std: 0.000)\n",
      "Parameters: {'bootstrap': True, 'criterion': 'gini', 'max_depth': 3, 'max_features': 10, 'min_samples_leaf': 10, 'min_samples_split': 2}\n",
      "\n",
      "Model with rank: 1\n",
      "Mean validation score: 1.000 (std: 0.000)\n",
      "Parameters: {'bootstrap': True, 'criterion': 'gini', 'max_depth': 3, 'max_features': 10, 'min_samples_leaf': 10, 'min_samples_split': 3}\n",
      "\n",
      "Model with rank: 1\n",
      "Mean validation score: 1.000 (std: 0.000)\n",
      "Parameters: {'bootstrap': True, 'criterion': 'gini', 'max_depth': 3, 'max_features': 10, 'min_samples_leaf': 10, 'min_samples_split': 10}\n",
      "\n",
      "Model with rank: 1\n",
      "Mean validation score: 1.000 (std: 0.000)\n",
      "Parameters: {'bootstrap': True, 'criterion': 'gini', 'max_depth': None, 'max_features': 3, 'min_samples_leaf': 1, 'min_samples_split': 2}\n",
      "\n",
      "Model with rank: 1\n",
      "Mean validation score: 1.000 (std: 0.000)\n",
      "Parameters: {'bootstrap': True, 'criterion': 'gini', 'max_depth': None, 'max_features': 3, 'min_samples_leaf': 1, 'min_samples_split': 3}\n",
      "\n",
      "Model with rank: 1\n",
      "Mean validation score: 1.000 (std: 0.000)\n",
      "Parameters: {'bootstrap': True, 'criterion': 'gini', 'max_depth': None, 'max_features': 3, 'min_samples_leaf': 3, 'min_samples_split': 2}\n",
      "\n",
      "Model with rank: 1\n",
      "Mean validation score: 1.000 (std: 0.000)\n",
      "Parameters: {'bootstrap': True, 'criterion': 'gini', 'max_depth': None, 'max_features': 3, 'min_samples_leaf': 3, 'min_samples_split': 3}\n",
      "\n",
      "Model with rank: 1\n",
      "Mean validation score: 1.000 (std: 0.000)\n",
      "Parameters: {'bootstrap': True, 'criterion': 'gini', 'max_depth': None, 'max_features': 3, 'min_samples_leaf': 3, 'min_samples_split': 10}\n",
      "\n",
      "Model with rank: 1\n",
      "Mean validation score: 1.000 (std: 0.000)\n",
      "Parameters: {'bootstrap': True, 'criterion': 'gini', 'max_depth': None, 'max_features': 10, 'min_samples_leaf': 1, 'min_samples_split': 2}\n",
      "\n",
      "Model with rank: 1\n",
      "Mean validation score: 1.000 (std: 0.000)\n",
      "Parameters: {'bootstrap': True, 'criterion': 'gini', 'max_depth': None, 'max_features': 10, 'min_samples_leaf': 1, 'min_samples_split': 3}\n",
      "\n",
      "Model with rank: 1\n",
      "Mean validation score: 1.000 (std: 0.000)\n",
      "Parameters: {'bootstrap': True, 'criterion': 'gini', 'max_depth': None, 'max_features': 10, 'min_samples_leaf': 1, 'min_samples_split': 10}\n",
      "\n",
      "Model with rank: 1\n",
      "Mean validation score: 1.000 (std: 0.000)\n",
      "Parameters: {'bootstrap': True, 'criterion': 'gini', 'max_depth': None, 'max_features': 10, 'min_samples_leaf': 3, 'min_samples_split': 2}\n",
      "\n",
      "Model with rank: 1\n",
      "Mean validation score: 1.000 (std: 0.000)\n",
      "Parameters: {'bootstrap': True, 'criterion': 'gini', 'max_depth': None, 'max_features': 10, 'min_samples_leaf': 3, 'min_samples_split': 3}\n",
      "\n",
      "Model with rank: 1\n",
      "Mean validation score: 1.000 (std: 0.000)\n",
      "Parameters: {'bootstrap': True, 'criterion': 'gini', 'max_depth': None, 'max_features': 10, 'min_samples_leaf': 3, 'min_samples_split': 10}\n",
      "\n",
      "Model with rank: 1\n",
      "Mean validation score: 1.000 (std: 0.000)\n",
      "Parameters: {'bootstrap': True, 'criterion': 'gini', 'max_depth': None, 'max_features': 10, 'min_samples_leaf': 10, 'min_samples_split': 2}\n",
      "\n",
      "Model with rank: 1\n",
      "Mean validation score: 1.000 (std: 0.000)\n",
      "Parameters: {'bootstrap': True, 'criterion': 'gini', 'max_depth': None, 'max_features': 10, 'min_samples_leaf': 10, 'min_samples_split': 3}\n",
      "\n",
      "Model with rank: 1\n",
      "Mean validation score: 1.000 (std: 0.000)\n",
      "Parameters: {'bootstrap': True, 'criterion': 'gini', 'max_depth': None, 'max_features': 10, 'min_samples_leaf': 10, 'min_samples_split': 10}\n",
      "\n",
      "Model with rank: 1\n",
      "Mean validation score: 1.000 (std: 0.000)\n",
      "Parameters: {'bootstrap': True, 'criterion': 'entropy', 'max_depth': 3, 'max_features': 10, 'min_samples_leaf': 1, 'min_samples_split': 2}\n",
      "\n",
      "Model with rank: 1\n",
      "Mean validation score: 1.000 (std: 0.000)\n",
      "Parameters: {'bootstrap': True, 'criterion': 'entropy', 'max_depth': 3, 'max_features': 10, 'min_samples_leaf': 1, 'min_samples_split': 3}\n",
      "\n",
      "Model with rank: 1\n",
      "Mean validation score: 1.000 (std: 0.000)\n",
      "Parameters: {'bootstrap': True, 'criterion': 'entropy', 'max_depth': 3, 'max_features': 10, 'min_samples_leaf': 1, 'min_samples_split': 10}\n",
      "\n",
      "Model with rank: 1\n",
      "Mean validation score: 1.000 (std: 0.000)\n",
      "Parameters: {'bootstrap': True, 'criterion': 'entropy', 'max_depth': 3, 'max_features': 10, 'min_samples_leaf': 3, 'min_samples_split': 2}\n",
      "\n",
      "Model with rank: 1\n",
      "Mean validation score: 1.000 (std: 0.000)\n",
      "Parameters: {'bootstrap': True, 'criterion': 'entropy', 'max_depth': 3, 'max_features': 10, 'min_samples_leaf': 3, 'min_samples_split': 3}\n",
      "\n",
      "Model with rank: 1\n",
      "Mean validation score: 1.000 (std: 0.000)\n",
      "Parameters: {'bootstrap': True, 'criterion': 'entropy', 'max_depth': 3, 'max_features': 10, 'min_samples_leaf': 3, 'min_samples_split': 10}\n",
      "\n",
      "Model with rank: 1\n",
      "Mean validation score: 1.000 (std: 0.000)\n",
      "Parameters: {'bootstrap': True, 'criterion': 'entropy', 'max_depth': 3, 'max_features': 10, 'min_samples_leaf': 10, 'min_samples_split': 2}\n",
      "\n",
      "Model with rank: 1\n",
      "Mean validation score: 1.000 (std: 0.000)\n",
      "Parameters: {'bootstrap': True, 'criterion': 'entropy', 'max_depth': 3, 'max_features': 10, 'min_samples_leaf': 10, 'min_samples_split': 3}\n",
      "\n",
      "Model with rank: 1\n",
      "Mean validation score: 1.000 (std: 0.000)\n",
      "Parameters: {'bootstrap': True, 'criterion': 'entropy', 'max_depth': 3, 'max_features': 10, 'min_samples_leaf': 10, 'min_samples_split': 10}\n",
      "\n",
      "Model with rank: 1\n",
      "Mean validation score: 1.000 (std: 0.000)\n",
      "Parameters: {'bootstrap': True, 'criterion': 'entropy', 'max_depth': None, 'max_features': 3, 'min_samples_leaf': 1, 'min_samples_split': 2}\n",
      "\n",
      "Model with rank: 1\n",
      "Mean validation score: 1.000 (std: 0.000)\n",
      "Parameters: {'bootstrap': True, 'criterion': 'entropy', 'max_depth': None, 'max_features': 3, 'min_samples_leaf': 1, 'min_samples_split': 3}\n",
      "\n",
      "Model with rank: 1\n",
      "Mean validation score: 1.000 (std: 0.000)\n",
      "Parameters: {'bootstrap': True, 'criterion': 'entropy', 'max_depth': None, 'max_features': 3, 'min_samples_leaf': 1, 'min_samples_split': 10}\n",
      "\n",
      "Model with rank: 1\n",
      "Mean validation score: 1.000 (std: 0.000)\n",
      "Parameters: {'bootstrap': True, 'criterion': 'entropy', 'max_depth': None, 'max_features': 3, 'min_samples_leaf': 3, 'min_samples_split': 2}\n",
      "\n",
      "Model with rank: 1\n",
      "Mean validation score: 1.000 (std: 0.000)\n",
      "Parameters: {'bootstrap': True, 'criterion': 'entropy', 'max_depth': None, 'max_features': 3, 'min_samples_leaf': 3, 'min_samples_split': 3}\n",
      "\n",
      "Model with rank: 1\n",
      "Mean validation score: 1.000 (std: 0.000)\n",
      "Parameters: {'bootstrap': True, 'criterion': 'entropy', 'max_depth': None, 'max_features': 3, 'min_samples_leaf': 10, 'min_samples_split': 2}\n",
      "\n",
      "Model with rank: 1\n",
      "Mean validation score: 1.000 (std: 0.000)\n",
      "Parameters: {'bootstrap': True, 'criterion': 'entropy', 'max_depth': None, 'max_features': 10, 'min_samples_leaf': 1, 'min_samples_split': 2}\n",
      "\n",
      "Model with rank: 1\n",
      "Mean validation score: 1.000 (std: 0.000)\n",
      "Parameters: {'bootstrap': True, 'criterion': 'entropy', 'max_depth': None, 'max_features': 10, 'min_samples_leaf': 1, 'min_samples_split': 3}\n",
      "\n",
      "Model with rank: 1\n",
      "Mean validation score: 1.000 (std: 0.000)\n",
      "Parameters: {'bootstrap': True, 'criterion': 'entropy', 'max_depth': None, 'max_features': 10, 'min_samples_leaf': 1, 'min_samples_split': 10}\n",
      "\n",
      "Model with rank: 1\n",
      "Mean validation score: 1.000 (std: 0.000)\n",
      "Parameters: {'bootstrap': True, 'criterion': 'entropy', 'max_depth': None, 'max_features': 10, 'min_samples_leaf': 3, 'min_samples_split': 2}\n",
      "\n",
      "Model with rank: 1\n",
      "Mean validation score: 1.000 (std: 0.000)\n",
      "Parameters: {'bootstrap': True, 'criterion': 'entropy', 'max_depth': None, 'max_features': 10, 'min_samples_leaf': 3, 'min_samples_split': 3}\n",
      "\n",
      "Model with rank: 1\n",
      "Mean validation score: 1.000 (std: 0.000)\n",
      "Parameters: {'bootstrap': True, 'criterion': 'entropy', 'max_depth': None, 'max_features': 10, 'min_samples_leaf': 3, 'min_samples_split': 10}\n",
      "\n",
      "Model with rank: 1\n",
      "Mean validation score: 1.000 (std: 0.000)\n",
      "Parameters: {'bootstrap': True, 'criterion': 'entropy', 'max_depth': None, 'max_features': 10, 'min_samples_leaf': 10, 'min_samples_split': 2}\n",
      "\n",
      "Model with rank: 1\n",
      "Mean validation score: 1.000 (std: 0.000)\n",
      "Parameters: {'bootstrap': True, 'criterion': 'entropy', 'max_depth': None, 'max_features': 10, 'min_samples_leaf': 10, 'min_samples_split': 3}\n",
      "\n",
      "Model with rank: 1\n",
      "Mean validation score: 1.000 (std: 0.000)\n",
      "Parameters: {'bootstrap': True, 'criterion': 'entropy', 'max_depth': None, 'max_features': 10, 'min_samples_leaf': 10, 'min_samples_split': 10}\n",
      "\n",
      "Model with rank: 1\n",
      "Mean validation score: 1.000 (std: 0.000)\n",
      "Parameters: {'bootstrap': False, 'criterion': 'gini', 'max_depth': 3, 'max_features': 10, 'min_samples_leaf': 1, 'min_samples_split': 2}\n",
      "\n",
      "Model with rank: 1\n",
      "Mean validation score: 1.000 (std: 0.000)\n",
      "Parameters: {'bootstrap': False, 'criterion': 'gini', 'max_depth': 3, 'max_features': 10, 'min_samples_leaf': 1, 'min_samples_split': 3}\n",
      "\n",
      "Model with rank: 1\n",
      "Mean validation score: 1.000 (std: 0.000)\n",
      "Parameters: {'bootstrap': False, 'criterion': 'gini', 'max_depth': 3, 'max_features': 10, 'min_samples_leaf': 1, 'min_samples_split': 10}\n",
      "\n",
      "Model with rank: 1\n",
      "Mean validation score: 1.000 (std: 0.000)\n",
      "Parameters: {'bootstrap': False, 'criterion': 'gini', 'max_depth': 3, 'max_features': 10, 'min_samples_leaf': 3, 'min_samples_split': 2}\n",
      "\n",
      "Model with rank: 1\n",
      "Mean validation score: 1.000 (std: 0.000)\n",
      "Parameters: {'bootstrap': False, 'criterion': 'gini', 'max_depth': 3, 'max_features': 10, 'min_samples_leaf': 3, 'min_samples_split': 3}\n",
      "\n",
      "Model with rank: 1\n",
      "Mean validation score: 1.000 (std: 0.000)\n",
      "Parameters: {'bootstrap': False, 'criterion': 'gini', 'max_depth': 3, 'max_features': 10, 'min_samples_leaf': 3, 'min_samples_split': 10}\n",
      "\n",
      "Model with rank: 1\n",
      "Mean validation score: 1.000 (std: 0.000)\n",
      "Parameters: {'bootstrap': False, 'criterion': 'gini', 'max_depth': 3, 'max_features': 10, 'min_samples_leaf': 10, 'min_samples_split': 2}\n",
      "\n",
      "Model with rank: 1\n",
      "Mean validation score: 1.000 (std: 0.000)\n",
      "Parameters: {'bootstrap': False, 'criterion': 'gini', 'max_depth': 3, 'max_features': 10, 'min_samples_leaf': 10, 'min_samples_split': 10}\n",
      "\n",
      "Model with rank: 1\n",
      "Mean validation score: 1.000 (std: 0.000)\n",
      "Parameters: {'bootstrap': False, 'criterion': 'gini', 'max_depth': None, 'max_features': 3, 'min_samples_leaf': 1, 'min_samples_split': 2}\n",
      "\n",
      "Model with rank: 1\n",
      "Mean validation score: 1.000 (std: 0.000)\n",
      "Parameters: {'bootstrap': False, 'criterion': 'gini', 'max_depth': None, 'max_features': 3, 'min_samples_leaf': 1, 'min_samples_split': 3}\n",
      "\n",
      "Model with rank: 1\n",
      "Mean validation score: 1.000 (std: 0.000)\n",
      "Parameters: {'bootstrap': False, 'criterion': 'gini', 'max_depth': None, 'max_features': 3, 'min_samples_leaf': 1, 'min_samples_split': 10}\n",
      "\n",
      "Model with rank: 1\n",
      "Mean validation score: 1.000 (std: 0.000)\n",
      "Parameters: {'bootstrap': False, 'criterion': 'gini', 'max_depth': None, 'max_features': 3, 'min_samples_leaf': 3, 'min_samples_split': 2}\n",
      "\n",
      "Model with rank: 1\n",
      "Mean validation score: 1.000 (std: 0.000)\n",
      "Parameters: {'bootstrap': False, 'criterion': 'gini', 'max_depth': None, 'max_features': 3, 'min_samples_leaf': 3, 'min_samples_split': 3}\n",
      "\n",
      "Model with rank: 1\n",
      "Mean validation score: 1.000 (std: 0.000)\n",
      "Parameters: {'bootstrap': False, 'criterion': 'gini', 'max_depth': None, 'max_features': 3, 'min_samples_leaf': 3, 'min_samples_split': 10}\n",
      "\n",
      "Model with rank: 1\n",
      "Mean validation score: 1.000 (std: 0.000)\n",
      "Parameters: {'bootstrap': False, 'criterion': 'gini', 'max_depth': None, 'max_features': 3, 'min_samples_leaf': 10, 'min_samples_split': 10}\n",
      "\n",
      "Model with rank: 1\n",
      "Mean validation score: 1.000 (std: 0.000)\n",
      "Parameters: {'bootstrap': False, 'criterion': 'gini', 'max_depth': None, 'max_features': 10, 'min_samples_leaf': 1, 'min_samples_split': 2}\n",
      "\n",
      "Model with rank: 1\n",
      "Mean validation score: 1.000 (std: 0.000)\n",
      "Parameters: {'bootstrap': False, 'criterion': 'gini', 'max_depth': None, 'max_features': 10, 'min_samples_leaf': 1, 'min_samples_split': 3}\n",
      "\n",
      "Model with rank: 1\n",
      "Mean validation score: 1.000 (std: 0.000)\n",
      "Parameters: {'bootstrap': False, 'criterion': 'gini', 'max_depth': None, 'max_features': 10, 'min_samples_leaf': 1, 'min_samples_split': 10}\n",
      "\n",
      "Model with rank: 1\n",
      "Mean validation score: 1.000 (std: 0.000)\n",
      "Parameters: {'bootstrap': False, 'criterion': 'gini', 'max_depth': None, 'max_features': 10, 'min_samples_leaf': 3, 'min_samples_split': 2}\n",
      "\n",
      "Model with rank: 1\n",
      "Mean validation score: 1.000 (std: 0.000)\n",
      "Parameters: {'bootstrap': False, 'criterion': 'gini', 'max_depth': None, 'max_features': 10, 'min_samples_leaf': 3, 'min_samples_split': 3}\n",
      "\n",
      "Model with rank: 1\n",
      "Mean validation score: 1.000 (std: 0.000)\n",
      "Parameters: {'bootstrap': False, 'criterion': 'gini', 'max_depth': None, 'max_features': 10, 'min_samples_leaf': 3, 'min_samples_split': 10}\n",
      "\n",
      "Model with rank: 1\n",
      "Mean validation score: 1.000 (std: 0.000)\n",
      "Parameters: {'bootstrap': False, 'criterion': 'gini', 'max_depth': None, 'max_features': 10, 'min_samples_leaf': 10, 'min_samples_split': 2}\n",
      "\n",
      "Model with rank: 1\n",
      "Mean validation score: 1.000 (std: 0.000)\n",
      "Parameters: {'bootstrap': False, 'criterion': 'gini', 'max_depth': None, 'max_features': 10, 'min_samples_leaf': 10, 'min_samples_split': 3}\n",
      "\n",
      "Model with rank: 1\n",
      "Mean validation score: 1.000 (std: 0.000)\n",
      "Parameters: {'bootstrap': False, 'criterion': 'gini', 'max_depth': None, 'max_features': 10, 'min_samples_leaf': 10, 'min_samples_split': 10}\n",
      "\n",
      "Model with rank: 1\n",
      "Mean validation score: 1.000 (std: 0.000)\n",
      "Parameters: {'bootstrap': False, 'criterion': 'entropy', 'max_depth': 3, 'max_features': 10, 'min_samples_leaf': 1, 'min_samples_split': 2}\n",
      "\n",
      "Model with rank: 1\n",
      "Mean validation score: 1.000 (std: 0.000)\n",
      "Parameters: {'bootstrap': False, 'criterion': 'entropy', 'max_depth': 3, 'max_features': 10, 'min_samples_leaf': 1, 'min_samples_split': 3}\n",
      "\n",
      "Model with rank: 1\n",
      "Mean validation score: 1.000 (std: 0.000)\n",
      "Parameters: {'bootstrap': False, 'criterion': 'entropy', 'max_depth': 3, 'max_features': 10, 'min_samples_leaf': 1, 'min_samples_split': 10}\n",
      "\n",
      "Model with rank: 1\n",
      "Mean validation score: 1.000 (std: 0.000)\n",
      "Parameters: {'bootstrap': False, 'criterion': 'entropy', 'max_depth': 3, 'max_features': 10, 'min_samples_leaf': 3, 'min_samples_split': 2}\n",
      "\n",
      "Model with rank: 1\n",
      "Mean validation score: 1.000 (std: 0.000)\n",
      "Parameters: {'bootstrap': False, 'criterion': 'entropy', 'max_depth': 3, 'max_features': 10, 'min_samples_leaf': 3, 'min_samples_split': 3}\n",
      "\n",
      "Model with rank: 1\n",
      "Mean validation score: 1.000 (std: 0.000)\n",
      "Parameters: {'bootstrap': False, 'criterion': 'entropy', 'max_depth': 3, 'max_features': 10, 'min_samples_leaf': 3, 'min_samples_split': 10}\n",
      "\n",
      "Model with rank: 1\n",
      "Mean validation score: 1.000 (std: 0.000)\n",
      "Parameters: {'bootstrap': False, 'criterion': 'entropy', 'max_depth': 3, 'max_features': 10, 'min_samples_leaf': 10, 'min_samples_split': 2}\n",
      "\n",
      "Model with rank: 1\n",
      "Mean validation score: 1.000 (std: 0.000)\n",
      "Parameters: {'bootstrap': False, 'criterion': 'entropy', 'max_depth': 3, 'max_features': 10, 'min_samples_leaf': 10, 'min_samples_split': 3}\n",
      "\n",
      "Model with rank: 1\n",
      "Mean validation score: 1.000 (std: 0.000)\n",
      "Parameters: {'bootstrap': False, 'criterion': 'entropy', 'max_depth': 3, 'max_features': 10, 'min_samples_leaf': 10, 'min_samples_split': 10}\n",
      "\n",
      "Model with rank: 1\n",
      "Mean validation score: 1.000 (std: 0.000)\n",
      "Parameters: {'bootstrap': False, 'criterion': 'entropy', 'max_depth': None, 'max_features': 3, 'min_samples_leaf': 1, 'min_samples_split': 2}\n",
      "\n",
      "Model with rank: 1\n",
      "Mean validation score: 1.000 (std: 0.000)\n",
      "Parameters: {'bootstrap': False, 'criterion': 'entropy', 'max_depth': None, 'max_features': 3, 'min_samples_leaf': 1, 'min_samples_split': 3}\n",
      "\n",
      "Model with rank: 1\n",
      "Mean validation score: 1.000 (std: 0.000)\n",
      "Parameters: {'bootstrap': False, 'criterion': 'entropy', 'max_depth': None, 'max_features': 3, 'min_samples_leaf': 1, 'min_samples_split': 10}\n",
      "\n",
      "Model with rank: 1\n",
      "Mean validation score: 1.000 (std: 0.000)\n",
      "Parameters: {'bootstrap': False, 'criterion': 'entropy', 'max_depth': None, 'max_features': 3, 'min_samples_leaf': 3, 'min_samples_split': 2}\n",
      "\n",
      "Model with rank: 1\n",
      "Mean validation score: 1.000 (std: 0.000)\n",
      "Parameters: {'bootstrap': False, 'criterion': 'entropy', 'max_depth': None, 'max_features': 3, 'min_samples_leaf': 3, 'min_samples_split': 3}\n",
      "\n",
      "Model with rank: 1\n",
      "Mean validation score: 1.000 (std: 0.000)\n",
      "Parameters: {'bootstrap': False, 'criterion': 'entropy', 'max_depth': None, 'max_features': 3, 'min_samples_leaf': 3, 'min_samples_split': 10}\n",
      "\n",
      "Model with rank: 1\n",
      "Mean validation score: 1.000 (std: 0.000)\n",
      "Parameters: {'bootstrap': False, 'criterion': 'entropy', 'max_depth': None, 'max_features': 3, 'min_samples_leaf': 10, 'min_samples_split': 2}\n",
      "\n",
      "Model with rank: 1\n",
      "Mean validation score: 1.000 (std: 0.000)\n",
      "Parameters: {'bootstrap': False, 'criterion': 'entropy', 'max_depth': None, 'max_features': 10, 'min_samples_leaf': 1, 'min_samples_split': 2}\n",
      "\n",
      "Model with rank: 1\n",
      "Mean validation score: 1.000 (std: 0.000)\n",
      "Parameters: {'bootstrap': False, 'criterion': 'entropy', 'max_depth': None, 'max_features': 10, 'min_samples_leaf': 1, 'min_samples_split': 3}\n",
      "\n",
      "Model with rank: 1\n",
      "Mean validation score: 1.000 (std: 0.000)\n",
      "Parameters: {'bootstrap': False, 'criterion': 'entropy', 'max_depth': None, 'max_features': 10, 'min_samples_leaf': 1, 'min_samples_split': 10}\n",
      "\n",
      "Model with rank: 1\n",
      "Mean validation score: 1.000 (std: 0.000)\n",
      "Parameters: {'bootstrap': False, 'criterion': 'entropy', 'max_depth': None, 'max_features': 10, 'min_samples_leaf': 3, 'min_samples_split': 2}\n",
      "\n",
      "Model with rank: 1\n",
      "Mean validation score: 1.000 (std: 0.000)\n",
      "Parameters: {'bootstrap': False, 'criterion': 'entropy', 'max_depth': None, 'max_features': 10, 'min_samples_leaf': 3, 'min_samples_split': 3}\n",
      "\n",
      "Model with rank: 1\n",
      "Mean validation score: 1.000 (std: 0.000)\n",
      "Parameters: {'bootstrap': False, 'criterion': 'entropy', 'max_depth': None, 'max_features': 10, 'min_samples_leaf': 3, 'min_samples_split': 10}\n",
      "\n",
      "Model with rank: 1\n",
      "Mean validation score: 1.000 (std: 0.000)\n",
      "Parameters: {'bootstrap': False, 'criterion': 'entropy', 'max_depth': None, 'max_features': 10, 'min_samples_leaf': 10, 'min_samples_split': 2}\n",
      "\n",
      "Model with rank: 1\n",
      "Mean validation score: 1.000 (std: 0.000)\n",
      "Parameters: {'bootstrap': False, 'criterion': 'entropy', 'max_depth': None, 'max_features': 10, 'min_samples_leaf': 10, 'min_samples_split': 3}\n",
      "\n",
      "Model with rank: 1\n",
      "Mean validation score: 1.000 (std: 0.000)\n",
      "Parameters: {'bootstrap': False, 'criterion': 'entropy', 'max_depth': None, 'max_features': 10, 'min_samples_leaf': 10, 'min_samples_split': 10}\n",
      "\n"
     ]
    }
   ],
   "source": [
    "#\n",
    "import numpy as np\n",
    "\n",
    "from time import time\n",
    "from scipy.stats import randint as sp_randint\n",
    "from scipy.stats import uniform\n",
    "\n",
    "from sklearn.model_selection import GridSearchCV\n",
    "from sklearn.model_selection import RandomizedSearchCV\n",
    "from sklearn.datasets import load_digits\n",
    "from sklearn.ensemble import RandomForestClassifier\n",
    "\n",
    "# build a classifier\n",
    "clf = RandomForestClassifier(n_estimators=20)\n",
    "\n",
    "\n",
    "# Utility function to report best scores\n",
    "def report(results, n_top=3):\n",
    "    for i in range(1, n_top + 1):\n",
    "        candidates = np.flatnonzero(results['rank_test_score'] == i)\n",
    "        for candidate in candidates:\n",
    "            print(\"Model with rank: {0}\".format(i))\n",
    "            print(\"Mean validation score: {0:.3f} (std: {1:.3f})\".format(\n",
    "                  results['mean_test_score'][candidate],\n",
    "                  results['std_test_score'][candidate]))\n",
    "            print(\"Parameters: {0}\".format(results['params'][candidate]))\n",
    "            print(\"\")\n",
    "\n",
    "# specify parameters and distributions to sample from\n",
    "param_dist = {\"max_depth\": [3, None],\n",
    "              \"max_features\": sp_randint(1, 11),\n",
    "              \"min_samples_split\": sp_randint(2, 11),\n",
    "              \"min_samples_leaf\": uniform(.001, .1),\n",
    "              \"bootstrap\": [True, False],\n",
    "              \"criterion\": [\"gini\", \"entropy\"]}\n",
    "\n",
    "# run randomized search\n",
    "n_iter_search = 20\n",
    "random_search = RandomizedSearchCV(clf, param_distributions=param_dist,\n",
    "                                   n_iter=n_iter_search)\n",
    "\n",
    "start = time()\n",
    "random_search.fit(X, y)\n",
    "print(\"RandomizedSearchCV took %.2f seconds for %d candidates\"\n",
    "      \" parameter settings.\" % ((time() - start), n_iter_search))\n",
    "report(random_search.cv_results_)\n",
    "\n",
    "# use a full grid over all parameters\n",
    "param_grid = {\"max_depth\": [3, None],\n",
    "              \"max_features\": [1, 3, 10],\n",
    "              \"min_samples_split\": [2, 3, 10],\n",
    "              \"min_samples_leaf\": [1, 3, 10],\n",
    "              \"bootstrap\": [True, False],\n",
    "              \"criterion\": [\"gini\", \"entropy\"]}\n",
    "\n",
    "\n",
    "# run grid search\n",
    "grid_search = GridSearchCV(clf, param_grid=param_grid)\n",
    "start = time()\n",
    "grid_search.fit(X, y)\n",
    "\n",
    "print(\"GridSearchCV took %.2f seconds for %d candidate parameter settings.\"\n",
    "      % (time() - start, len(grid_search.cv_results_['params'])))\n",
    "report(grid_search.cv_results_)\n"
   ]
  },
  {
   "cell_type": "code",
   "execution_count": null,
   "metadata": {},
   "outputs": [],
   "source": []
  },
  {
   "cell_type": "code",
   "execution_count": null,
   "metadata": {},
   "outputs": [],
   "source": []
  }
 ],
 "metadata": {
  "kernelspec": {
   "display_name": "Python 3",
   "language": "python",
   "name": "python3"
  },
  "language_info": {
   "codemirror_mode": {
    "name": "ipython",
    "version": 3
   },
   "file_extension": ".py",
   "mimetype": "text/x-python",
   "name": "python",
   "nbconvert_exporter": "python",
   "pygments_lexer": "ipython3",
   "version": "3.6.5"
  },
  "toc": {
   "base_numbering": 1,
   "nav_menu": {},
   "number_sections": true,
   "sideBar": true,
   "skip_h1_title": false,
   "title_cell": "Table of Contents",
   "title_sidebar": "Contents",
   "toc_cell": false,
   "toc_position": {},
   "toc_section_display": true,
   "toc_window_display": false
  }
 },
 "nbformat": 4,
 "nbformat_minor": 2
}
